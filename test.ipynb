{
 "cells": [
  {
   "cell_type": "code",
   "execution_count": 15,
   "id": "1aef59d0",
   "metadata": {},
   "outputs": [],
   "source": [
    "import pandas as pd\n",
    "import geopandas as gpd"
   ]
  },
  {
   "cell_type": "code",
   "execution_count": 16,
   "id": "db18e55f",
   "metadata": {},
   "outputs": [],
   "source": [
    "gdf = gpd.read_file(\"map/estados_mexico_limpio.geojson\")"
   ]
  },
  {
   "cell_type": "code",
   "execution_count": 17,
   "id": "fa29e6cb",
   "metadata": {},
   "outputs": [
    {
     "data": {
      "text/html": [
       "<div>\n",
       "<style scoped>\n",
       "    .dataframe tbody tr th:only-of-type {\n",
       "        vertical-align: middle;\n",
       "    }\n",
       "\n",
       "    .dataframe tbody tr th {\n",
       "        vertical-align: top;\n",
       "    }\n",
       "\n",
       "    .dataframe thead th {\n",
       "        text-align: right;\n",
       "    }\n",
       "</style>\n",
       "<table border=\"1\" class=\"dataframe\">\n",
       "  <thead>\n",
       "    <tr style=\"text-align: right;\">\n",
       "      <th></th>\n",
       "      <th>entidad</th>\n",
       "      <th>ent</th>\n",
       "      <th>geometry</th>\n",
       "    </tr>\n",
       "  </thead>\n",
       "  <tbody>\n",
       "    <tr>\n",
       "      <th>0</th>\n",
       "      <td>AGS</td>\n",
       "      <td>01</td>\n",
       "      <td>POLYGON ((-102.27549 22.4134, -102.27541 22.41...</td>\n",
       "    </tr>\n",
       "    <tr>\n",
       "      <th>1</th>\n",
       "      <td>BC</td>\n",
       "      <td>02</td>\n",
       "      <td>MULTIPOLYGON (((-114.09167 28, -114.09718 28, ...</td>\n",
       "    </tr>\n",
       "    <tr>\n",
       "      <th>2</th>\n",
       "      <td>BCS</td>\n",
       "      <td>03</td>\n",
       "      <td>POLYGON ((-114.14934 28, -114.14733 27.99714, ...</td>\n",
       "    </tr>\n",
       "    <tr>\n",
       "      <th>3</th>\n",
       "      <td>CAMP</td>\n",
       "      <td>04</td>\n",
       "      <td>MULTIPOLYGON (((-90.38182 20.74954, -90.38182 ...</td>\n",
       "    </tr>\n",
       "    <tr>\n",
       "      <th>4</th>\n",
       "      <td>CDMX</td>\n",
       "      <td>09</td>\n",
       "      <td>POLYGON ((-99.16219 19.52774, -99.16212 19.527...</td>\n",
       "    </tr>\n",
       "  </tbody>\n",
       "</table>\n",
       "</div>"
      ],
      "text/plain": [
       "  entidad ent                                           geometry\n",
       "0     AGS  01  POLYGON ((-102.27549 22.4134, -102.27541 22.41...\n",
       "1      BC  02  MULTIPOLYGON (((-114.09167 28, -114.09718 28, ...\n",
       "2     BCS  03  POLYGON ((-114.14934 28, -114.14733 27.99714, ...\n",
       "3    CAMP  04  MULTIPOLYGON (((-90.38182 20.74954, -90.38182 ...\n",
       "4    CDMX  09  POLYGON ((-99.16219 19.52774, -99.16212 19.527..."
      ]
     },
     "execution_count": 17,
     "metadata": {},
     "output_type": "execute_result"
    }
   ],
   "source": [
    "gdf.head()"
   ]
  },
  {
   "cell_type": "code",
   "execution_count": 8,
   "id": "9445ed07",
   "metadata": {},
   "outputs": [],
   "source": [
    "# Diccionario: abreviatura incorrecta -> abreviatura correcta\n",
    "correcciones = {\n",
    "    \"AGU\": \"AGS\",\n",
    "    \"BC\": \"BC\",\n",
    "    \"BCS\": \"BCS\",\n",
    "    \"CAM\": \"CAMP\",\n",
    "    \"CDMX\": \"CDMX\",\n",
    "    \"CHH\": \"CHIH\",\n",
    "    \"CHP\": \"CHIS\",\n",
    "    \"COA\": \"COAH\",\n",
    "    \"COL\": \"COL\",\n",
    "    \"DUR\": \"DGO\",\n",
    "    \"GRO\": \"GRO\",\n",
    "    \"GUA\": \"GTO\",\n",
    "    \"HID\": \"HGO\",\n",
    "    \"JAL\": \"JAL\",\n",
    "    \"MEX\": \"MEX\",\n",
    "    \"MIC\": \"MICH\",\n",
    "    \"MOR\": \"MOR\",\n",
    "    \"NAY\": \"NAY\",\n",
    "    \"NLE\": \"NL\",\n",
    "    \"OAX\": \"OAX\",\n",
    "    \"PUE\": \"PUE\",\n",
    "    \"QUE\": \"QRO\",\n",
    "    \"ROO\": \"QROO\",\n",
    "    \"SIN\": \"SIN\",\n",
    "    \"SLP\": \"SLP\",\n",
    "    \"SON\": \"SON\",\n",
    "    \"TAB\": \"TAB\",\n",
    "    \"TAM\": \"TAMPS\",\n",
    "    \"TLA\": \"TLAX\",\n",
    "    \"VER\": \"VER\",\n",
    "    \"YUC\": \"YUC\",\n",
    "    \"ZAC\": \"ZAC\"\n",
    "}"
   ]
  },
  {
   "cell_type": "code",
   "execution_count": 9,
   "id": "b79745fe",
   "metadata": {},
   "outputs": [],
   "source": [
    "# Reemplazar valores en la columna 'entidad'\n",
    "gdf[\"entidad\"] = gdf[\"entidad\"].replace(correcciones)\n",
    "\n",
    "# Guardar el GeoDataFrame corregido\n",
    "gdf.to_file(\"map/estados_mexico_abreviaturas_corregidas.geojson\", driver=\"GeoJSON\")"
   ]
  }
 ],
 "metadata": {
  "kernelspec": {
   "display_name": "venv",
   "language": "python",
   "name": "python3"
  },
  "language_info": {
   "codemirror_mode": {
    "name": "ipython",
    "version": 3
   },
   "file_extension": ".py",
   "mimetype": "text/x-python",
   "name": "python",
   "nbconvert_exporter": "python",
   "pygments_lexer": "ipython3",
   "version": "3.11.7"
  }
 },
 "nbformat": 4,
 "nbformat_minor": 5
}
